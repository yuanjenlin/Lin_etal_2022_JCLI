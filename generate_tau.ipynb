{
 "cells": [
  {
   "cell_type": "markdown",
   "metadata": {},
   "source": [
    "# Generate spatial varying tau and max level for the potential temperature restoring\n",
    "This code generates two spatial maps:\\\n",
    "(1) the reciprocal of the restoring timesclae (rtau). It shoule be named as \"PT_RESTORE_RTAU\". \\\n",
    "(2) the max level for restoring. It should be named as \"PT_RESTORE_MAX_LEVEL\" and it should be integer."
   ]
  },
  {
   "cell_type": "code",
   "execution_count": 1,
   "metadata": {},
   "outputs": [],
   "source": [
    "import netCDF4 as nc\n",
    "import regionmask\n",
    "import xarray as xr\n",
    "import numpy as np\n",
    "import matplotlib.pyplot as plt"
   ]
  },
  {
   "cell_type": "code",
   "execution_count": 2,
   "metadata": {},
   "outputs": [],
   "source": [
    "c_name = 'C_128cores'\n",
    "c_year = '0291'\n",
    "with xr.open_mfdataset('/data/rose_scr/yl528729/cesmruns/'+c_name+'/run/'+c_name+'.pop.h.'+c_year+'-01.nc', chunks={'time': 3}, combine='by_coords') as ds:    \n",
    "    TLONG_da             = ds['TLONG'] # \"array of t-grid longitudes\" # (nlat, nlon)\n",
    "    TLAT_da              = ds['TLAT'] # \"array of t-grid latitudes\" # (nlat, nlon)\n",
    "    z_t_da               = ds['z_t'] # [cm] # \"depth from surface to midpoint of layer\""
   ]
  },
  {
   "cell_type": "code",
   "execution_count": 3,
   "metadata": {},
   "outputs": [],
   "source": [
    "default_tau    = 3650. # float\n",
    "default_maxl   = 100 # integer\n",
    "tau            = np.full(TLONG_da.shape, default_tau) # [days]\n",
    "maxl           = np.full(TLONG_da.shape, default_maxl)\n",
    "filename       = 'TAU_GLOB10Y_NA1M_LBD5D'\n",
    "\n",
    "modify_LBD_tau = True # True if you do want to modify the tau *only* in the Labrador Sea\n",
    "save_file      = False # True if you do want to save the file. False if you just wanna get the data\n",
    "\n",
    "tau_LBD        = 5. # [days]"
   ]
  },
  {
   "cell_type": "code",
   "execution_count": 4,
   "metadata": {},
   "outputs": [],
   "source": [
    "basins          = regionmask.defined_regions.natural_earth.ocean_basins_50\n",
    "mask            = basins.mask(TLONG_da, TLAT_da)\n",
    "if modify_LBD_tau:\n",
    "    mask_LBD           = (mask==19) \n",
    "    tau[mask_LBD==True]= tau_LBD\n",
    "    mask_LBD_val       = mask_LBD.values"
   ]
  },
  {
   "cell_type": "code",
   "execution_count": 5,
   "metadata": {},
   "outputs": [],
   "source": [
    "if save_file:\n",
    "    out_filename = '/network/rit/home/yl528729/cesm1_2_1/input_made/'+filename+'.nc'\n",
    "    print(out_filename)\n",
    "    out_ds = nc.Dataset(out_filename, 'w', format='NETCDF4')\n",
    "    out_ds.createDimension('nlat', TLAT_da.shape[0])\n",
    "    out_ds.createDimension('nlon', TLONG_da.shape[1])\n",
    "\n",
    "    TLONG     = out_ds.createVariable('TLONG', 'd', ('nlat','nlon'))\n",
    "    TLAT      = out_ds.createVariable('TLAT', 'd', ('nlat','nlon'))\n",
    "    rtau_out  = out_ds.createVariable('PT_RESTORE_RTAU', 'd', ('nlat','nlon'))\n",
    "    maxl_out  = out_ds.createVariable('PT_RESTORE_MAX_LEVEL', 'i', ('nlat','nlon'))\n",
    "    rtau_out[:] = 1./tau\n",
    "    maxl_out[:] = maxl\n",
    "    out_ds.close() "
   ]
  },
  {
   "cell_type": "markdown",
   "metadata": {},
   "source": [
    "### A simple plot just to show that $\\tau$ inside the Labrador Sea is set to 5 days, and is set to 10 years outside the Labrador Sea."
   ]
  },
  {
   "cell_type": "code",
   "execution_count": 6,
   "metadata": {},
   "outputs": [
    {
     "data": {
      "text/plain": [
       "Text(0.5, 1.0, '$\\\\frac{1}{\\\\tau}$ $(day^{-1}$)')"
      ]
     },
     "execution_count": 6,
     "metadata": {},
     "output_type": "execute_result"
    },
    {
     "data": {
      "image/png": "[encoded data removed]",
      "text/plain": [
       "<Figure size 360x216 with 2 Axes>"
      ]
     },
     "metadata": {
      "needs_background": "light"
     },
     "output_type": "display_data"
    }
   ],
   "source": [
    "plt.figure(figsize=(5,3))\n",
    "plt.contourf(1./tau, levels=np.arange(0.,0.3,0.05));plt.colorbar()\n",
    "plt.title(r'$\\frac{1}{\\tau}$ $(day^{-1}$)', fontsize=20)"
   ]
  },
  {
   "cell_type": "code",
   "execution_count": null,
   "metadata": {},
   "outputs": [],
   "source": []
  }
 ],
 "metadata": {
  "kernelspec": {
   "display_name": "Python 3",
   "language": "python",
   "name": "python3"
  },
  "language_info": {
   "codemirror_mode": {
    "name": "ipython",
    "version": 3
   },
   "file_extension": ".py",
   "mimetype": "text/x-python",
   "name": "python",
   "nbconvert_exporter": "python",
   "pygments_lexer": "ipython3",
   "version": "3.8.6"
  }
 },
 "nbformat": 4,
 "nbformat_minor": 4
}
