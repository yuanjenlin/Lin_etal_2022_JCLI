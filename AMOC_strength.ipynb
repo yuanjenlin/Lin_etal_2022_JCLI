{
 "cells": [
  {
   "cell_type": "markdown",
   "id": "b6402aec-ad9d-45d2-9147-6fec41692a67",
   "metadata": {},
   "source": [
    "# AMOC Strength Evaluation\n",
    "This code shows how I calculated AMOC strength in CMIP6 models through (1) integrating meridional velocity (\"vo\") and (2) using the model output of overturning mass streamfunction (\"msftmz\" or \"msftyz\").\n",
    "\n",
    "The two methods show consistent results. For more information, see Lin et al. (submitted for J. Climate)."
   ]
  },
  {
   "cell_type": "code",
   "execution_count": 1,
   "id": "d8f50632-09d8-41dc-aea6-224327030896",
   "metadata": {},
   "outputs": [],
   "source": [
    "import warnings\n",
    "warnings.filterwarnings(\"ignore\")\n",
    "import intake\n",
    "import matplotlib.pyplot as plt\n",
    "import numpy as np\n",
    "from cmip6_preprocessing.preprocessing import combined_preprocessing"
   ]
  },
  {
   "cell_type": "code",
   "execution_count": 2,
   "id": "c37cbe8b-16db-4958-ad40-d0b679171209",
   "metadata": {
    "tags": []
   },
   "outputs": [],
   "source": [
    "# This function calculates the value at specfic point of its *rightmost* coordinate. \n",
    "def AMOC_val_rightmost(x, t_val, m_val):\n",
    "    dist_val  = np.abs(m_val - t_val)\n",
    "    id_val    = np.argsort(dist_val)\n",
    "    slice0    = x[...,id_val[0]]\n",
    "    slice1    = x[...,id_val[1]]\n",
    "    slice_val = (slice0 * dist_val[id_val[1]] + slice1 * dist_val[id_val[0]]) / (dist_val[id_val[0]]+dist_val[id_val[1]])    \n",
    "    return slice_val\n",
    "\n",
    "def tic():\n",
    "    import time\n",
    "    global startTime_for_tictoc\n",
    "    startTime_for_tictoc = time.time()\n",
    "def toc():\n",
    "    import time\n",
    "    if 'startTime_for_tictoc' in globals():\n",
    "        print(\"Elapsed time is \" + str(time.time() - startTime_for_tictoc) + \" seconds.\")\n",
    "    else:\n",
    "        print(\"Toc: start time not set\")\n",
    "        \n",
    "# Constants\n",
    "r_earth = 6.371*1e6\n",
    "mon_wgt = np.array([31., 28., 31., 30., 31., 30., 31., 31., 30., 31., 30., 31.])"
   ]
  },
  {
   "cell_type": "markdown",
   "id": "d3b484d0-e87d-4bf3-97bb-2862e3aff700",
   "metadata": {},
   "source": [
    "## (1) AMOC strength from integrating meridional velocity (\"vo\")"
   ]
  },
  {
   "cell_type": "code",
   "execution_count": 3,
   "id": "cbbcac07-a5f9-4273-afd9-2ca894047759",
   "metadata": {},
   "outputs": [],
   "source": [
    "im         = \"CESM2\"\n",
    "iv         = \"vo\"\n",
    "ie_ls      = [\"piControl\", \"abrupt-4xCO2\"]\n",
    "ny         = 150\n",
    "nt         = ny*12"
   ]
  },
  {
   "cell_type": "code",
   "execution_count": 4,
   "id": "6ddf48e2-e93d-4a29-bf89-2fb349726458",
   "metadata": {},
   "outputs": [],
   "source": [
    "# ADD THE BOUNDARY INFORMATION HERE #\n",
    "# 35N: 90W-0, 0-45E\n",
    "# 26.5N: 102W-5W\n",
    "WB = {}\n",
    "EB = {}\n",
    "WB['35.0'] = 270.\n",
    "EB['35.0'] = 45. # include mediterranean sea\n",
    "# EB['35.0'] = 355. # exclude mediterranean sea\n",
    "\n",
    "WB['26.5'] = 258.\n",
    "EB['26.5'] = 355.\n",
    "\n",
    "# CHOOSE YOUR TARGET LATITUDE HERE #\n",
    "lat_target = 35.\n",
    "# lat_target = 26.5"
   ]
  },
  {
   "cell_type": "code",
   "execution_count": 5,
   "id": "363d44b8-09de-432d-839a-d295e88b8463",
   "metadata": {},
   "outputs": [],
   "source": [
    "url = \"https://storage.googleapis.com/cmip6/pangeo-cmip6.json\"\n",
    "col = intake.open_esm_datastore(url)"
   ]
  },
  {
   "cell_type": "markdown",
   "id": "2f9aac09-a0ad-41d1-b6fc-d16458f9a473",
   "metadata": {},
   "source": [
    "##### This below cell holds the main code for integration, which is also the most time-consuming process (~46 mins for CESM2). "
   ]
  },
  {
   "cell_type": "code",
   "execution_count": 6,
   "id": "b80317b0-477d-463b-a2ca-915f86412644",
   "metadata": {},
   "outputs": [
    {
     "name": "stdout",
     "output_type": "stream",
     "text": [
      "\n",
      "--> The keys in the returned dictionary of datasets are constructed as follows:\n",
      "\t'activity_id.institution_id.source_id.experiment_id.table_id.grid_label'\n"
     ]
    },
    {
     "data": {
      "text/html": [
       "\n",
       "<style>\n",
       "    /* Turns off some styling */\n",
       "    progress {\n",
       "        /* gets rid of default border in Firefox and Opera. */\n",
       "        border: none;\n",
       "        /* Needs to be in here for Safari polyfill so background images work as expected. */\n",
       "        background-size: auto;\n",
       "    }\n",
       "    .progress-bar-interrupted, .progress-bar-interrupted::-webkit-progress-bar {\n",
       "        background: #F44336;\n",
       "    }\n",
       "</style>\n"
      ],
      "text/plain": [
       "<IPython.core.display.HTML object>"
      ]
     },
     "metadata": {},
     "output_type": "display_data"
    },
    {
     "data": {
      "text/html": [
       "\n",
       "    <div>\n",
       "      <progress value='1' class='' max='1' style='width:300px; height:20px; vertical-align: middle;'></progress>\n",
       "      100.00% [1/1 00:00<00:00]\n",
       "    </div>\n",
       "    "
      ],
      "text/plain": [
       "<IPython.core.display.HTML object>"
      ]
     },
     "metadata": {},
     "output_type": "display_data"
    },
    {
     "name": "stdout",
     "output_type": "stream",
     "text": [
      "dict_keys(['CMIP.NCAR.CESM2.piControl.Omon.gn'])\n",
      "====================== Coords info ======================\n",
      "====================== Find the western and eastern boundaries ======================\n",
      "Check if you get the western boundary right: m_lon=269.9410339473835\n",
      "Check if you get the western boundary right: m_lat=34.83378953012475\n",
      "Check if you get the eastern boundary right: m_lon=44.82028574781257\n",
      "Check if you get the eastern boundary right: m_lat=34.921469633592196\n",
      "Concatenate two parts of Atlantic Basin\n",
      "====================== Calculating streamfunction in the Atlantic Ocean ======================\n",
      "Completing...100 out of 1800 timesteps.\n",
      "Completing...200 out of 1800 timesteps.\n",
      "Completing...300 out of 1800 timesteps.\n",
      "Completing...400 out of 1800 timesteps.\n",
      "Completing...500 out of 1800 timesteps.\n",
      "Completing...600 out of 1800 timesteps.\n",
      "Completing...700 out of 1800 timesteps.\n",
      "Completing...800 out of 1800 timesteps.\n",
      "Completing...900 out of 1800 timesteps.\n",
      "Completing...1000 out of 1800 timesteps.\n",
      "Completing...1100 out of 1800 timesteps.\n",
      "Completing...1200 out of 1800 timesteps.\n",
      "Completing...1300 out of 1800 timesteps.\n",
      "Completing...1400 out of 1800 timesteps.\n",
      "Completing...1500 out of 1800 timesteps.\n",
      "Completing...1600 out of 1800 timesteps.\n",
      "Completing...1700 out of 1800 timesteps.\n",
      "Completing...1800 out of 1800 timesteps.\n",
      "Elapsed time is 1773.9873418807983 seconds.\n",
      "\n",
      "--> The keys in the returned dictionary of datasets are constructed as follows:\n",
      "\t'activity_id.institution_id.source_id.experiment_id.table_id.grid_label'\n"
     ]
    },
    {
     "data": {
      "text/html": [
       "\n",
       "<style>\n",
       "    /* Turns off some styling */\n",
       "    progress {\n",
       "        /* gets rid of default border in Firefox and Opera. */\n",
       "        border: none;\n",
       "        /* Needs to be in here for Safari polyfill so background images work as expected. */\n",
       "        background-size: auto;\n",
       "    }\n",
       "    .progress-bar-interrupted, .progress-bar-interrupted::-webkit-progress-bar {\n",
       "        background: #F44336;\n",
       "    }\n",
       "</style>\n"
      ],
      "text/plain": [
       "<IPython.core.display.HTML object>"
      ]
     },
     "metadata": {},
     "output_type": "display_data"
    },
    {
     "data": {
      "text/html": [
       "\n",
       "    <div>\n",
       "      <progress value='1' class='' max='1' style='width:300px; height:20px; vertical-align: middle;'></progress>\n",
       "      100.00% [1/1 00:00<00:00]\n",
       "    </div>\n",
       "    "
      ],
      "text/plain": [
       "<IPython.core.display.HTML object>"
      ]
     },
     "metadata": {},
     "output_type": "display_data"
    },
    {
     "name": "stdout",
     "output_type": "stream",
     "text": [
      "dict_keys(['CMIP.NCAR.CESM2.abrupt-4xCO2.Omon.gn'])\n",
      "====================== Coords info ======================\n",
      "====================== Find the western and eastern boundaries ======================\n",
      "Check if you get the western boundary right: m_lon=269.9410339473835\n",
      "Check if you get the western boundary right: m_lat=34.83378953012475\n",
      "Check if you get the eastern boundary right: m_lon=44.82028574781257\n",
      "Check if you get the eastern boundary right: m_lat=34.921469633592196\n",
      "Concatenate two parts of Atlantic Basin\n",
      "====================== Calculating streamfunction in the Atlantic Ocean ======================\n",
      "Completing...100 out of 1800 timesteps.\n",
      "Completing...200 out of 1800 timesteps.\n",
      "Completing...300 out of 1800 timesteps.\n",
      "Completing...400 out of 1800 timesteps.\n",
      "Completing...500 out of 1800 timesteps.\n",
      "Completing...600 out of 1800 timesteps.\n",
      "Completing...700 out of 1800 timesteps.\n",
      "Completing...800 out of 1800 timesteps.\n",
      "Completing...900 out of 1800 timesteps.\n",
      "Completing...1000 out of 1800 timesteps.\n",
      "Completing...1100 out of 1800 timesteps.\n",
      "Completing...1200 out of 1800 timesteps.\n",
      "Completing...1300 out of 1800 timesteps.\n",
      "Completing...1400 out of 1800 timesteps.\n",
      "Completing...1500 out of 1800 timesteps.\n",
      "Completing...1600 out of 1800 timesteps.\n",
      "Completing...1700 out of 1800 timesteps.\n",
      "Completing...1800 out of 1800 timesteps.\n",
      "Elapsed time is 1177.0557100772858 seconds.\n"
     ]
    }
   ],
   "source": [
    "msft_vo = {}\n",
    "for ie in ie_ls:\n",
    "    cat = col.search(\n",
    "        source_id=im,\n",
    "        experiment_id=ie,\n",
    "        table_id=\"Omon\",\n",
    "        variable_id=iv,\n",
    "        member_id=\"r1i1p1f1\",\n",
    "    )\n",
    "    \n",
    "    dset_dict = cat.to_dataset_dict(\n",
    "    zarr_kwargs={\"consolidated\": True, \"decode_times\": True, \"use_cftime\": True}, preprocess=combined_preprocessing\n",
    "    )    \n",
    "    print(dset_dict.keys())\n",
    "    if len(dset_dict.keys())>1:\n",
    "        print(\"Warning. More than one file.\")\n",
    "    ds = dset_dict[list(dset_dict.keys())[0]]\n",
    "    \n",
    "    print('====================== Coords info ======================')\n",
    "    # Some modele do not give the right order of coords, so \"transpose\" yourself.\n",
    "    m_lon = ds.coords['lon'].transpose(\"y\", \"x\")\n",
    "    m_lat = ds.coords['lat'].transpose(\"y\", \"x\")\n",
    "    m_lev = ds.coords['lev']\n",
    "    m_lon_bnds = ds.coords['lon_bounds'].transpose(\"bnds\", \"y\", \"x\")\n",
    "    m_lev_bnds = ds.coords['lev_bounds'].transpose(\"lev\", \"bnds\")\n",
    "\n",
    "    m_lon_val = m_lon.values\n",
    "    m_lat_val = m_lat.values\n",
    "    m_lon_nan = np.where(abs(m_lon_val)>1000.,np.nan,m_lon_val)\n",
    "    m_lat_nan = np.where(abs(m_lat_val)>1000.,np.nan,m_lat_val)\n",
    "    m_lon_new = m_lon_nan.copy()\n",
    "    m_lat_new = m_lat_nan.copy()\n",
    "    \n",
    "    xlen = m_lon_new.shape[1]\n",
    "    ylen = m_lon_new.shape[0]\n",
    "    \n",
    "    dz       = m_lev_bnds[:,1] - m_lev_bnds[:,0]\n",
    "    dz_val   = dz.values\n",
    "\n",
    "    m_lon_bnds_val = m_lon_bnds.values\n",
    "    m_lev_val      = m_lev.values\n",
    "\n",
    "    print('====================== Find the western and eastern boundaries ======================')\n",
    "    dist_WB  = np.abs(m_lon_new - WB[str(lat_target)])\n",
    "    dist_EB  = np.abs(m_lon_new - EB[str(lat_target)])\n",
    "    dist_lat = np.abs(m_lat_new - lat_target)\n",
    "    dist_WB2 = dist_WB + dist_lat \n",
    "    dist_EB2 = dist_EB + dist_lat \n",
    "    id_WB    = np.unravel_index(np.argsort(dist_WB2, axis=None), dist_WB2.shape)\n",
    "    xid_WB   = id_WB[1][0]\n",
    "    yid_WB   = id_WB[0][0]\n",
    "    id_EB    = np.unravel_index(np.argsort(dist_EB2, axis=None), dist_EB2.shape)\n",
    "    xid_EB   = id_EB[1][0]\n",
    "    yid_EB   = id_EB[0][0]\n",
    "    print(\"Check if you get the western boundary right: m_lon=\"+str(m_lon_new[yid_WB,xid_WB]))\n",
    "    print(\"Check if you get the western boundary right: m_lat=\"+str(m_lat_new[yid_WB,xid_WB]))\n",
    "    print(\"Check if you get the eastern boundary right: m_lon=\"+str(m_lon_new[yid_EB,xid_EB]))\n",
    "    print(\"Check if you get the eastern boundary right: m_lat=\"+str(m_lat_new[yid_EB,xid_EB]))\n",
    "\n",
    "    if xid_WB > xid_EB:\n",
    "        print('Concatenate two parts of Atlantic Basin')\n",
    "        xid_arr = np.concatenate((np.arange(0,xid_EB+1,1), np.arange(xid_WB,xlen,1)))\n",
    "    if xid_WB < xid_EB:\n",
    "        print('Continuous longitude in Atlantic Basin')\n",
    "        xid_arr = np.arange(xid_WB,xid_EB+1,1)\n",
    "\n",
    "    print('====================== Calculating streamfunction in the Atlantic Ocean ======================')    \n",
    "    slice_sumz = np.full((nt,len(m_lev),xlen), np.nan)\n",
    "\n",
    "    tic()\n",
    "    for it in range(nt):\n",
    "        if (it+1)%100==0:\n",
    "            print('Completing...'+str(it+1)+' out of 1800 timesteps.')\n",
    "\n",
    "        ds_val = ds[iv].isel(time=it).squeeze().transpose(\"lev\", \"y\", \"x\").values\n",
    " \n",
    "        for ix in xid_arr:\n",
    "            dist_lat = np.abs(m_lat_new[:,ix] - lat_target)\n",
    "            id_lat   = np.argsort(dist_lat)\n",
    "            if dist_lat[id_lat[0]] < 1e-3:\n",
    "                slice_ = ds_val[...,id_lat[0],ix]\n",
    "            else:\n",
    "                slice0 = ds_val[...,id_lat[0],ix]\n",
    "                slice1 = ds_val[...,id_lat[1],ix]\n",
    "                slice_ = (slice0 * dist_lat[id_lat[1]] + slice1 * dist_lat[id_lat[0]]) / (dist_lat[id_lat[0]]+dist_lat[id_lat[1]])\n",
    "\n",
    "            dlon = m_lon_bnds_val[1,id_lat[0],ix] - m_lon_bnds_val[0,id_lat[0],ix]\n",
    "\n",
    "            if np.abs(dlon) > 10.:\n",
    "                # print('Unrealistic dlon:'+str(dlon)+'. Must happen in the boundary.')\n",
    "                if ix == xid_arr[0]:\n",
    "                    # print('The first xid_arr is at the longitude of 0/360.')\n",
    "                    # print('Use the eastern boundary dlon. dlon:'+str(dlon))\n",
    "                    # since dlon is unrealistic only because it is on the longitude of 0/360, and the fact that \"eastern boundary\" of the Atlantic is close to the longitude of 0/360\n",
    "                    # we set the default dlon on the eastern boundary\n",
    "                    # this is only necessary for the model whose first xid_arr is 0/360 ... (for now, only INM-CM4-8 & CAS-ESM2-0 need this)\n",
    "                    dlon = m_lon_bnds_val[1,yid_EB,xid_EB] - m_lon_bnds_val[0,yid_EB,xid_EB]                    \n",
    "                else:\n",
    "                    # print('Use the previous realistic dlon. dlon:'+str(dlon))\n",
    "                    dlon = m_lon_bnds_val[1,id_lat[0],ix_copy] - m_lon_bnds_val[0,id_lat[0],ix_copy]\n",
    "            else:\n",
    "                ix_copy  = ix.copy() # this saves the previous realistic value of ix \n",
    "\n",
    "            dx        = r_earth*np.cos(np.deg2rad(lat_target))*np.deg2rad(dlon)\n",
    "            slice_dz  = slice_*dz_val*np.abs(dx)\n",
    " \n",
    "            for il in range(len(m_lev)):\n",
    "                slice_sumz[it,il,ix] = -np.nansum(slice_dz[il:]) / 1e6\n",
    "      \n",
    "    msft_vo[ie] = np.nansum(slice_sumz,axis=2)\n",
    "    toc()    "
   ]
  },
  {
   "cell_type": "markdown",
   "id": "035bfe19-33fc-48f5-9a12-5a66c076c913",
   "metadata": {},
   "source": [
    "## (2) AMOC strength from ocean mass streamfunction (model output)\n",
    "- Basin name could be different among models ('baisn', 'sector', '3basin', ...)\n",
    "- Basin information in FGOALS models seem to be wrong. 0: Global 1:Atlantic. "
   ]
  },
  {
   "cell_type": "code",
   "execution_count": 7,
   "id": "a4af5049-cca4-460e-81fa-3a54b7397d9e",
   "metadata": {},
   "outputs": [],
   "source": [
    "iv         = \"msftmz\" # \"msftmz\", \"msftyz\"\n",
    "basin_name = \"basin\" # \"basin\", \"sector\", \"3basin\". ..\n",
    "lat_name   = \"lat\" # \"lat\", \"rlat\", \"nav_lat\", \"y\"\n",
    "lev_name   = \"lev\" # \"lev\", \"olevel\""
   ]
  },
  {
   "cell_type": "code",
   "execution_count": 8,
   "id": "f582d7c2-af7a-4b4e-8045-09405f1b6f1b",
   "metadata": {},
   "outputs": [
    {
     "name": "stdout",
     "output_type": "stream",
     "text": [
      "\n",
      "--> The keys in the returned dictionary of datasets are constructed as follows:\n",
      "\t'activity_id.institution_id.source_id.experiment_id.table_id.grid_label'\n"
     ]
    },
    {
     "data": {
      "text/html": [
       "\n",
       "<style>\n",
       "    /* Turns off some styling */\n",
       "    progress {\n",
       "        /* gets rid of default border in Firefox and Opera. */\n",
       "        border: none;\n",
       "        /* Needs to be in here for Safari polyfill so background images work as expected. */\n",
       "        background-size: auto;\n",
       "    }\n",
       "    .progress-bar-interrupted, .progress-bar-interrupted::-webkit-progress-bar {\n",
       "        background: #F44336;\n",
       "    }\n",
       "</style>\n"
      ],
      "text/plain": [
       "<IPython.core.display.HTML object>"
      ]
     },
     "metadata": {},
     "output_type": "display_data"
    },
    {
     "data": {
      "text/html": [
       "\n",
       "    <div>\n",
       "      <progress value='1' class='' max='1' style='width:300px; height:20px; vertical-align: middle;'></progress>\n",
       "      100.00% [1/1 00:00<00:00]\n",
       "    </div>\n",
       "    "
      ],
      "text/plain": [
       "<IPython.core.display.HTML object>"
      ]
     },
     "metadata": {},
     "output_type": "display_data"
    },
    {
     "name": "stdout",
     "output_type": "stream",
     "text": [
      "dict_keys(['CMIP.NCAR.CESM2.piControl.Omon.gn'])\n",
      "<xarray.DataArray 'basin' (basin: 3)>\n",
      "array([0, 1, 2], dtype=int32)\n",
      "Coordinates:\n",
      "  * basin    (basin) int32 0 1 2\n",
      "Attributes:\n",
      "    coords:         region\n",
      "    requested:      atlantic_arctic_ocean=0, indian_pacific_ocean=1, global_o...\n",
      "    standard_name:  region\n",
      "    title:          ocean basin\n",
      "    type:           int\n",
      "    units:          1\n"
     ]
    },
    {
     "name": "stdin",
     "output_type": "stream",
     "text": [
      "Which one is Atlantic-Artic Ocean? (Start with 0) 0\n"
     ]
    },
    {
     "name": "stdout",
     "output_type": "stream",
     "text": [
      "=== Warning. Z-axis is not in meters. ===\n",
      "=== Warning. The deepest point is at: 549999.0625. ===\n",
      "=== Warning. It is in centimeters. ===\n",
      "=== Warning. Error occurs when it is not in cm. ===\n",
      "\n",
      "--> The keys in the returned dictionary of datasets are constructed as follows:\n",
      "\t'activity_id.institution_id.source_id.experiment_id.table_id.grid_label'\n"
     ]
    },
    {
     "data": {
      "text/html": [
       "\n",
       "<style>\n",
       "    /* Turns off some styling */\n",
       "    progress {\n",
       "        /* gets rid of default border in Firefox and Opera. */\n",
       "        border: none;\n",
       "        /* Needs to be in here for Safari polyfill so background images work as expected. */\n",
       "        background-size: auto;\n",
       "    }\n",
       "    .progress-bar-interrupted, .progress-bar-interrupted::-webkit-progress-bar {\n",
       "        background: #F44336;\n",
       "    }\n",
       "</style>\n"
      ],
      "text/plain": [
       "<IPython.core.display.HTML object>"
      ]
     },
     "metadata": {},
     "output_type": "display_data"
    },
    {
     "data": {
      "text/html": [
       "\n",
       "    <div>\n",
       "      <progress value='1' class='' max='1' style='width:300px; height:20px; vertical-align: middle;'></progress>\n",
       "      100.00% [1/1 00:00<00:00]\n",
       "    </div>\n",
       "    "
      ],
      "text/plain": [
       "<IPython.core.display.HTML object>"
      ]
     },
     "metadata": {},
     "output_type": "display_data"
    },
    {
     "name": "stdout",
     "output_type": "stream",
     "text": [
      "dict_keys(['CMIP.NCAR.CESM2.abrupt-4xCO2.Omon.gn'])\n",
      "<xarray.DataArray 'basin' (basin: 3)>\n",
      "array([0, 1, 2], dtype=int32)\n",
      "Coordinates:\n",
      "  * basin    (basin) int32 0 1 2\n",
      "Attributes:\n",
      "    coords:         region\n",
      "    requested:      atlantic_arctic_ocean=0, indian_pacific_ocean=1, global_o...\n",
      "    standard_name:  region\n",
      "    title:          ocean basin\n",
      "    type:           int\n",
      "    units:          1\n"
     ]
    },
    {
     "name": "stdin",
     "output_type": "stream",
     "text": [
      "Which one is Atlantic-Artic Ocean? (Start with 0) 0\n"
     ]
    },
    {
     "name": "stdout",
     "output_type": "stream",
     "text": [
      "=== Warning. Z-axis is not in meters. ===\n",
      "=== Warning. The deepest point is at: 549999.0625. ===\n",
      "=== Warning. It is in centimeters. ===\n",
      "=== Warning. Error occurs when it is not in cm. ===\n"
     ]
    }
   ],
   "source": [
    "msft_out = {}\n",
    "for ie in ie_ls:\n",
    "    cat = col.search(\n",
    "        source_id=im,\n",
    "        experiment_id=ie,\n",
    "        table_id=\"Omon\",\n",
    "        variable_id=iv,\n",
    "        member_id=\"r1i1p1f1\",\n",
    "    )\n",
    "    \n",
    "    dset_dict = cat.to_dataset_dict(\n",
    "    zarr_kwargs={\"consolidated\": True, \"decode_times\": True, \"use_cftime\": True}\n",
    "    )    \n",
    "    print(dset_dict.keys())\n",
    "    if len(dset_dict.keys())>1:\n",
    "        print(\"Warning. More than one file.\")\n",
    "    ds = dset_dict[list(dset_dict.keys())[0]]\n",
    "    \n",
    "    # msft in Atlantic Ocean\n",
    "    print(ds.coords[basin_name])\n",
    "    ATARO_id   = int(input('Which one is Atlantic-Artic Ocean? (Start with 0)'))\n",
    "    ds_AT      = ds[iv].isel(time=range(0,nt,1), basin=ATARO_id)\n",
    "    \n",
    "    # latitude and level values\n",
    "    m_lat = ds_AT.coords[lat_name]\n",
    "    if ds[lev_name].values[-1] > 8000:\n",
    "        print('=== Warning. Z-axis is not in meters. ===')\n",
    "        print('=== Warning. The deepest point is at: '+str(ds['lev'].values[-1])+'. ===')\n",
    "        print('=== Warning. It is in '+ds.coords['lev'].attrs['units']+'. ===')\n",
    "        print('=== Warning. Error occurs when it is not in cm. ===')\n",
    "        m_lev = ds[lev_name].values/100.\n",
    "    \n",
    "    # msft value at latitude of 35N and depth of 1000m\n",
    "    ds_AT_35N    = AMOC_val_rightmost(ds_AT, 35.0, m_lat)\n",
    "    ds_AT_35N_1K = AMOC_val_rightmost(ds_AT_35N, 1000.0, m_lev)\n",
    "    \n",
    "    # annual mean; for plots\n",
    "    msft_mon     = ds_AT_35N_1K.squeeze().values/1e9\n",
    "    msft_ann     = np.average(msft_mon.reshape(ny,12), axis=1, weights=mon_wgt)\n",
    "    msft_out[ie] = msft_ann.copy()"
   ]
  },
  {
   "cell_type": "code",
   "execution_count": 9,
   "id": "4ffea3a2-469b-4b2e-a72c-98e26c5f74ed",
   "metadata": {},
   "outputs": [
    {
     "data": {
      "text/plain": [
       "Text(0, 0.5, 'AMOC strength (Sv)')"
      ]
     },
     "execution_count": 9,
     "metadata": {},
     "output_type": "execute_result"
    },
    {
     "data": {
      "image/png": "[encoded data removed]",
      "text/plain": [
       "<Figure size 288x288 with 1 Axes>"
      ]
     },
     "metadata": {
      "needs_background": "light"
     },
     "output_type": "display_data"
    }
   ],
   "source": [
    "plt.figure(figsize=(4,4))\n",
    "plt.plot(np.arange(1,151,1),msft_out['piControl'],'--',color=(0,0,0,0.5),linewidth=2)\n",
    "plt.plot(np.arange(1,151,1),msft_out['abrupt-4xCO2'],'--',color=(0,0,0,1),linewidth=2,label='msft')\n",
    "plt.plot(np.arange(1,151,1),np.average(AMOC_val_rightmost(msft_vo['piControl'], 1000.0, m_lev).reshape(ny,12), axis=1, weights=mon_wgt),color=(1,0,0,0.5),linewidth=2)\n",
    "plt.plot(np.arange(1,151,1),np.average(AMOC_val_rightmost(msft_vo['abrupt-4xCO2'], 1000.0, m_lev).reshape(ny,12), axis=1, weights=mon_wgt),color=(1,0,0,1),linewidth=2,label='vo integral')\n",
    "plt.legend(fontsize=12)\n",
    "plt.title(im,fontsize=16)   \n",
    "plt.grid(color=(0.8,0.8,0.8,1),linestyle='--')\n",
    "plt.yticks(np.arange(0,36,5),fontsize=14)\n",
    "plt.xticks(np.array((25,50,75,100,125,150)),fontsize=14)\n",
    "plt.axis([0,150,0,35])\n",
    "plt.xlabel('year after abrupt4xCO$_{2}$',fontsize=14)\n",
    "plt.ylabel('AMOC strength (Sv)',fontsize=14)"
   ]
  },
  {
   "cell_type": "markdown",
   "id": "ce7e9d01-98e0-44ef-a350-26cef775b824",
   "metadata": {},
   "source": [
    "The figure shows the AMOC strength at 35N and 1000m in 150-year abrupt-4xCO2 and corresponding piControl simulations in CESM2, which is a reproduction as in Figure A1 (CESM2 part) in Lin et al. (submitted for J. Climate)."
   ]
  },
  {
   "cell_type": "markdown",
   "id": "29a8a710-0645-4e51-8212-d2c8eef4a98c",
   "metadata": {},
   "source": [
    "## Acknowledgment: \n",
    "\n",
    "Pangeo cloud-based datasets (Abernathey et al. 2021*) and the package xMIP (formerly cmip6_preprocessing; [![DOI](https://zenodo.org/badge/DOI/10.5281/zenodo.6812409.svg)](https://doi.org/10.5281/zenodo.6812409)) were used to access and postprocess the model output.\n",
    "\n",
    "*R. P. Abernathey et al., \"Cloud-Native Repositories for Big Scientific Data,\" in Computing in Science & Engineering, vol. 23, no. 2, pp. 26-35, 1 March-April 2021, doi: 10.1109/MCSE.2021.3059437."
   ]
  },
  {
   "cell_type": "code",
   "execution_count": null,
   "id": "62dda14d-22e7-4d16-9293-ccc3ef4070cb",
   "metadata": {},
   "outputs": [],
   "source": []
  }
 ],
 "metadata": {
  "kernelspec": {
   "display_name": "Python 3 (ipykernel)",
   "language": "python",
   "name": "python3"
  },
  "language_info": {
   "codemirror_mode": {
    "name": "ipython",
    "version": 3
   },
   "file_extension": ".py",
   "mimetype": "text/x-python",
   "name": "python",
   "nbconvert_exporter": "python",
   "pygments_lexer": "ipython3",
   "version": "3.9.13"
  }
 },
 "nbformat": 4,
 "nbformat_minor": 5
}
